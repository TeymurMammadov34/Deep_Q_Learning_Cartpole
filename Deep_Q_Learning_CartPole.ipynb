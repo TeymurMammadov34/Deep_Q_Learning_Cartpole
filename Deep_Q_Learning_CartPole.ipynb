{
 "cells": [
  {
   "cell_type": "markdown",
   "id": "8ef4a43b-ad57-4400-8779-0181b4271f6f",
   "metadata": {},
   "source": [
    "# ✅Gerekli Kütüphanelerin İçe Aktarılması"
   ]
  },
  {
   "cell_type": "code",
   "execution_count": 2,
   "id": "5188bc64-b7a8-4570-890a-4c152198b651",
   "metadata": {},
   "outputs": [],
   "source": [
    "import numpy as np  # NumPy, özellikle vektör ve matris işlemleri için kullanılır.\n",
    "import gym  # OpenAI Gym, RL ortamlarını sağlar. Burada CartPole kullanılıyor.\n",
    "from collections import deque  # Deneyim hafızası için çift taraflı kuyruk.\n",
    "from tensorflow.keras.models import Sequential  # Basit katmanlı model tanımı.\n",
    "from tensorflow.keras.layers import Dense  # Yapay sinir ağına tam bağlantılı katmanlar ekler.\n",
    "from tensorflow.keras.optimizers import Adam  # Geri yayılımda kullanılan optimizasyon algoritması.\n",
    "import random  # Rastgele eylem seçimi ve örnekleme için kullanılır.\n",
    "from tqdm import tqdm  # Eğitim döngüsü ilerlemesini görsel olarak takip etmeye yarar."
   ]
  },
  {
   "cell_type": "markdown",
   "id": "6628cdbb-c6fd-4dfe-88ea-32697c820ef0",
   "metadata": {},
   "source": [
    "# ✅ Derin Q-Learning Ajanının Tanımı"
   ]
  },
  {
   "cell_type": "code",
   "execution_count": 3,
   "id": "3233de3c-3c8e-49d4-80ea-c142174fd3c5",
   "metadata": {},
   "outputs": [],
   "source": [
    "class DQLAgent:\n",
    "    def __init__(self, env):\n",
    "        self.state_size = env.observation_space.shape[0]  # Ortamın gözlem (state) boyutu alınır.\n",
    "        self.action_size = env.action_space.n  # Ortamda yapılabilecek toplam eylem sayısı.\n",
    "\n",
    "        self.gamma = 0.95  # Gelecekteki ödüllerin bugüne indirgenme katsayısı (discount factor).\n",
    "        self.learning_rate = 0.001  # Öğrenme oranı.\n",
    "\n",
    "        self.epsilon = 1  # Başlangıçta tamamen rastgele eylem seçimi (exploration).\n",
    "        self.epsilon_decay = 0.995  # Her bölüm sonunda epsilon değeri yavaşça azaltılır.\n",
    "        self.epsilon_min = 0.01  # Epsilon’un ulaşabileceği en düşük değer.\n",
    "\n",
    "        self.memory = deque(maxlen=1000)  # Deneyimlerin saklanacağı bir kuyruk (Experience Replay).\n",
    "\n",
    "        self.model = self.build_model()  # Sinir ağı modeli oluşturulur.\n",
    "\n",
    "    # Sinir Ağı Modelinin İnşası\n",
    "    def build_model(self):\n",
    "        model = Sequential()\n",
    "        \n",
    "        model.add(Dense(48, input_dim=self.state_size, activation=\"relu\"))  # İlk katman: Girdi boyutuna göre nöronlar.\n",
    "        \n",
    "        model.add(Dense(24, activation=\"relu\"))  # Orta katman: daha az nöron ile temsil gücü.\n",
    "       \n",
    "        model.add(Dense(self.action_size, activation=\"linear\"))  # Çıkış katmanı: Her aksiyon için bir değer.\n",
    "        \n",
    "        model.compile(loss=\"mse\", optimizer=Adam(learning_rate=self.learning_rate))  # Hata fonksiyonu ve optimizer.\n",
    "        return model\n",
    "\n",
    "    # Hafızaya Deneyim Ekleme Fonksiyonu\n",
    "    def remember(self, state, action, reward, next_state, done):\n",
    "        self.memory.append((state, action, reward, next_state, done))  # Her adımı belleğe kaydeder.\n",
    "\n",
    "    # Aksiyon Seçme Fonksiyonu (ε-Greedy Politikası)\n",
    "    def act(self, state):\n",
    "        if random.uniform(0, 1) <= self.epsilon:\n",
    "            return env.action_space.sample()  # Rastgele aksiyon seç (exploration).\n",
    "        \n",
    "        act_values = self.model.predict(state, verbose=0)  # Modelle tahmin yap (exploitation).\n",
    "        return np.argmax(act_values[0])  # En yüksek Q-değerine sahip aksiyon seçilir.\n",
    "\n",
    "    # Replay - Ajanın Öğrenme Fonksiyonu\n",
    "    def replay(self, batch_size):\n",
    "        if len(self.memory) < batch_size:\n",
    "            return  # Yeterli deneyim yoksa öğrenme yapılmaz.\n",
    "\n",
    "        minibatch = random.sample(self.memory, batch_size)  # Hafızadan rastgele örnekler seçilir.\n",
    "\n",
    "        for state, action, reward, next_state, done in minibatch:\n",
    "            if done:\n",
    "                target = reward  # Eğer bölüm bittiyse sadece ödül kullanılır.\n",
    "            else:\n",
    "                target = reward + self.gamma * np.amax(self.model.predict(next_state, verbose=0)[0])\n",
    "                # Eğer devam ediyorsa gelecekteki maksimum ödül eklenir.\n",
    "\n",
    "            train_target = self.model.predict(state, verbose=0)\n",
    "            train_target[0][action] = target  # Sadece ilgili aksiyonun Q-değeri güncellenir.\n",
    "\n",
    "            self.model.fit(state, train_target, verbose=0)  # Model eğitilir.\n",
    "\n",
    "        \n",
    "    # Epsilon Güncelleme Fonksiyonu (Exploration Azaltımı)\n",
    "    def adaptiveEGreedy(self):\n",
    "        if self.epsilon > self.epsilon_min:\n",
    "            self.epsilon *= self.epsilon_decay  # Epsilon zamanla azaltılır."
   ]
  },
  {
   "cell_type": "markdown",
   "id": "437fb8ac-2446-4bf1-bfec-b04e16f77091",
   "metadata": {},
   "source": [
    "# ✅ Ana Eğitim Döngüsü - Ajanın Ortamda Öğrenmesi"
   ]
  },
  {
   "cell_type": "code",
   "execution_count": 4,
   "id": "52add913-24b6-42b0-aa88-4b4408477379",
   "metadata": {},
   "outputs": [
    {
     "name": "stderr",
     "output_type": "stream",
     "text": [
      "C:\\Users\\Teymur Mammadov\\anaconda3\\Lib\\site-packages\\keras\\src\\layers\\core\\dense.py:87: UserWarning: Do not pass an `input_shape`/`input_dim` argument to a layer. When using Sequential models, prefer using an `Input(shape)` object as the first layer in the model instead.\n",
      "  super().__init__(activity_regularizer=activity_regularizer, **kwargs)\n",
      "C:\\Users\\Teymur Mammadov\\anaconda3\\Lib\\site-packages\\gym\\utils\\passive_env_checker.py:233: DeprecationWarning: `np.bool8` is a deprecated alias for `np.bool_`.  (Deprecated NumPy 1.24)\n",
      "  if not isinstance(terminated, (bool, np.bool8)):\n",
      " 50%|█████     | 1/2 [00:03<00:03,  3.69s/it]"
     ]
    },
    {
     "name": "stdout",
     "output_type": "stream",
     "text": [
      "Episode 1 finished after 18 timesteps\n"
     ]
    },
    {
     "name": "stderr",
     "output_type": "stream",
     "text": [
      "100%|██████████| 2/2 [06:35<00:00, 197.87s/it]"
     ]
    },
    {
     "name": "stdout",
     "output_type": "stream",
     "text": [
      "Episode 2 finished after 44 timesteps\n"
     ]
    },
    {
     "name": "stderr",
     "output_type": "stream",
     "text": [
      "\n"
     ]
    }
   ],
   "source": [
    "env = gym.make(\"CartPole-v1\", render_mode=\"human\")  # Ortam oluşturulur (insan gözlemi için).\n",
    "agent = DQLAgent(env)\n",
    "\n",
    "batch_size = 32  # Mini-batch boyutu.\n",
    "episodes = 2  # Eğitim bölümü sayısı (daha sonra artırılabilir).\n",
    "\n",
    "for e in tqdm(range(episodes)):\n",
    "    state = env.reset()[0]  # Ortam sıfırlanır ve başlangıç durumu alınır.\n",
    "    state = np.reshape(state, [1, 4])  # Modelle uyumlu hale getirilir.\n",
    "\n",
    "    time = 0  # Adım sayacı\n",
    "\n",
    "    while True:\n",
    "        action = agent.act(state)  # Ajan aksiyon seçer.\n",
    "\n",
    "        next_state, reward, terminated, truncated, _ = env.step(action)\n",
    "        done = terminated or truncated  # Bölümün bitip bitmediği kontrol edilir.\n",
    "        next_state = np.reshape(next_state, [1, 4])  # Modelle uyumlu hale getirilir.\n",
    "\n",
    "        agent.remember(state, action, reward, next_state, done)  # Hafızaya kaydedilir.\n",
    "        state = next_state  # Yeni duruma geçilir.\n",
    "\n",
    "        agent.replay(batch_size)  # Öğrenme yapılır.\n",
    "        agent.adaptiveEGreedy()  # Epsilon güncellenir.\n",
    "\n",
    "        time += 1\n",
    "\n",
    "        if done:\n",
    "            print(f\"Episode {e+1} finished after {time} timesteps\")  # Bölüm sonucu yazdırılır.\n",
    "            break\n"
   ]
  },
  {
   "cell_type": "markdown",
   "id": "0627f6b4-7520-45bb-8177-d28b399e9449",
   "metadata": {},
   "source": [
    "# 🧪 Eğitilmiş Ajanı Test Etme"
   ]
  },
  {
   "cell_type": "code",
   "execution_count": 8,
   "id": "703d0450-b3cf-4479-b60b-aa17ef7bf9fd",
   "metadata": {},
   "outputs": [
    {
     "name": "stdout",
     "output_type": "stream",
     "text": [
      "Time: 1\n",
      "Time: 2\n",
      "Time: 3\n",
      "Time: 4\n",
      "Time: 5\n",
      "Time: 6\n",
      "Time: 7\n",
      "Time: 8\n",
      "Time: 9\n",
      "Time: 10\n",
      "Time: 11\n",
      "Time: 12\n",
      "Time: 13\n",
      "Time: 14\n",
      "Time: 15\n",
      "Time: 16\n",
      "Time: 17\n",
      "Time: 18\n",
      "Time: 19\n",
      "Time: 20\n",
      "Done\n"
     ]
    }
   ],
   "source": [
    "import time\n",
    "# Eğitilmiş ajanı kullanıma hazır hale getiriyoruz.\n",
    "trained_model = agent\n",
    "\n",
    "# CartPole-v1 ortamını, görselleştirme (render) modunda başlatıyoruz.\n",
    "env = gym.make(\"CartPole-v1\", render_mode=\"human\")\n",
    "\n",
    "# Ortamı sıfırlıyoruz ve başlangıç durumunu alıyoruz.\n",
    "# env.reset() fonksiyonu bir tuple döndürür; ilk eleman gözlemlerdir.\n",
    "state = env.reset()[0]\n",
    "\n",
    "# Gözlem vektörünü (state) modele uygun hale getirmek için yeniden şekillendiriyoruz.\n",
    "# Modelimiz [1, 4] boyutunda giriş bekliyor.\n",
    "state = np.reshape(state, [1, 4])\n",
    "\n",
    "# Zaman adımı sayacını başlatıyoruz.\n",
    "time_t = 0\n",
    "\n",
    "# Sonsuz döngü: Ajanı eğitilmiş politika ile çalıştırıyoruz.\n",
    "while True:\n",
    "    # Ortamı görsel olarak ekranda gösteriyoruz.\n",
    "    env.render()\n",
    "\n",
    "    # Ajan, mevcut duruma göre en iyi eylemi (aksiyonu) tahmin eder.\n",
    "    action = trained_model.act(state)\n",
    "\n",
    "    # Ortamda bu aksiyonu gerçekleştiriyoruz; yeni durumu, ödülü ve bitiş bilgisini alıyoruz.\n",
    "    next_state, reward, done, _, _ = env.step(action)\n",
    "\n",
    "    # Yeni durumu yine modele uygun forma dönüştürüyoruz.\n",
    "    next_state = np.reshape(next_state, [1, 4])\n",
    "\n",
    "    # Ajanın mevcut durumunu güncelliyoruz.\n",
    "    state = next_state\n",
    "\n",
    "    # Zaman adım sayacını artırıyoruz.\n",
    "    time_t += 1\n",
    "\n",
    "    # Her adımda geçen zamanı konsola yazdırıyoruz.\n",
    "    print(f\"Time: {time_t}\")\n",
    "\n",
    "    # Ajanın aksiyonlar arasında kısa bir duraklama yapmasını sağlıyoruz.\n",
    "    time.sleep(0.5)\n",
    "\n",
    "    # Eğer çubuk düşerse (done=True), döngüyü sonlandırıyoruz.\n",
    "    if done:\n",
    "        break\n",
    "\n",
    "# Simülasyon tamamlandığında mesaj veriyoruz.\n",
    "print(\"Done\")"
   ]
  },
  {
   "cell_type": "code",
   "execution_count": null,
   "id": "1d8bf005-6ed0-4d6b-9c44-c663f3484011",
   "metadata": {},
   "outputs": [],
   "source": []
  }
 ],
 "metadata": {
  "kernelspec": {
   "display_name": "Python 3 (ipykernel)",
   "language": "python",
   "name": "python3"
  },
  "language_info": {
   "codemirror_mode": {
    "name": "ipython",
    "version": 3
   },
   "file_extension": ".py",
   "mimetype": "text/x-python",
   "name": "python",
   "nbconvert_exporter": "python",
   "pygments_lexer": "ipython3",
   "version": "3.12.3"
  }
 },
 "nbformat": 4,
 "nbformat_minor": 5
}
